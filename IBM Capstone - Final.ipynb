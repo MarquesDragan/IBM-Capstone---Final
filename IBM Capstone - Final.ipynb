{
    "nbformat_minor": 1, 
    "cells": [
        {
            "source": "# Exploring Toronto, Canada and New York, US America", 
            "cell_type": "markdown", 
            "metadata": {}
        }, 
        {
            "source": "## Introdution", 
            "cell_type": "markdown", 
            "metadata": {}
        }, 
        {
            "source": "A Toronto grocery with muliple locations in the city of Toronto is thinking about entering the New York market. They want to know the similarities between New York and Toronto based on neighboorhoods seperations. This will help them determine the best locations to open in New York based on their diversification", 
            "cell_type": "markdown", 
            "metadata": {}
        }, 
        {
            "source": "### Data Set", 
            "cell_type": "markdown", 
            "metadata": {}
        }, 
        {
            "source": "Toronto neighbourhoods data will be obtained by utilizing postal codes and data from web scrapping Wikipedia.\nNew York neighborhoods data will be obtained by utilizing the dataset from, New York: A City of Neighborhoods.\nThe neighborhoods datasets will be visualized through a folium map.\nAdditional data will be optained through geocoder and foursquare.\nIf the data from geocoder and foursquare are clean then scrabbing the data will be limited and will be useful for the analysis.", 
            "cell_type": "markdown", 
            "metadata": {}
        }, 
        {
            "source": "### Data Analysis", 
            "cell_type": "markdown", 
            "metadata": {}
        }, 
        {
            "source": "The data will need to be clustered by neighborhoods and the uniqueness of each neighboorhood will be explored. Similar neighborhoods from each city will be grouped together and this will allow the grocery to see the best locations to open new groceries in a different city. ", 
            "cell_type": "markdown", 
            "metadata": {}
        }
    ], 
    "metadata": {
        "kernelspec": {
            "display_name": "Python 3.5", 
            "name": "python3", 
            "language": "python"
        }, 
        "language_info": {
            "mimetype": "text/x-python", 
            "nbconvert_exporter": "python", 
            "version": "3.5.5", 
            "name": "python", 
            "file_extension": ".py", 
            "pygments_lexer": "ipython3", 
            "codemirror_mode": {
                "version": 3, 
                "name": "ipython"
            }
        }
    }, 
    "nbformat": 4
}